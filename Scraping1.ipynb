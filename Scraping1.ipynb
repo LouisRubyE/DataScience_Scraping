{
 "cells": [
  {
   "cell_type": "code",
   "execution_count": 193,
   "metadata": {},
   "outputs": [],
   "source": [
    "from bs4 import BeautifulSoup\n",
    "import requests\n",
    "import re\n",
    "import pandas as pd"
   ]
  },
  {
   "cell_type": "code",
   "execution_count": 194,
   "metadata": {},
   "outputs": [],
   "source": [
    "headers = {'Accept-Language': 'en-US,en;q=0.8'}\n",
    "url = 'https://ussfeed.com'\n",
    "response = requests.get(url,headers=headers)\n",
    "soup = BeautifulSoup(response.text, \"html.parser\")"
   ]
  },
  {
   "cell_type": "code",
   "execution_count": 195,
   "metadata": {},
   "outputs": [
    {
     "name": "stdout",
     "output_type": "stream",
     "text": [
      "<h5 class=\"sc_blogger_item_title entry-title\" data-item-number=\"1\"><a href=\"https://ussfeed.com/kemendikbud-tak-setuju-jika-sistem-zonasi-dianggap-akar-dari-permasalahan-di-ppdb/pop-culture/\" rel=\"bookmark\">Kemendikbud Tak Setuju Jika Sistem Zonasi Dianggap Akar dari Permasalahan di PPDB</a></h5>\n",
      " \n",
      "how many titles are available? 39\n"
     ]
    }
   ],
   "source": [
    "newstitle = soup.select('h5.sc_blogger_item_title.entry-title')\n",
    "print(newstitle[0])\n",
    "print(\" \")\n",
    "print(\"how many titles are available?\",len(soup.select('h5.sc_blogger_item_title.entry-title')))"
   ]
  },
  {
   "cell_type": "code",
   "execution_count": 196,
   "metadata": {},
   "outputs": [
    {
     "name": "stdout",
     "output_type": "stream",
     "text": [
      "[<a href=\"https://ussfeed.com/kemendikbud-tak-setuju-jika-sistem-zonasi-dianggap-akar-dari-permasalahan-di-ppdb/pop-culture/\" rel=\"bookmark\">Kemendikbud Tak Setuju Jika Sistem Zonasi Dianggap Akar dari Permasalahan di PPDB</a>, <a href=\"https://ussfeed.com/stanford-university-bakal-bangun-sekolah-di-ikn/pop-culture/\" rel=\"bookmark\">Stanford University Bakal Bangun Sekolah di IKN</a>, <a href=\"https://ussfeed.com/krisis-air-bersih-bekasi-warga-sulit-dapat-pasokan-akibat-tercemar-kalimalang-jadi-solusi/pop-culture/\" rel=\"bookmark\">Krisis Air Bersih Bekasi: Warga Sulit Dapat Pasokan Akibat Tercemar, Kalimalang Jadi Solusi?</a>, <a href=\"https://ussfeed.com/fifa-bakal-berkantor-di-jakarta-untuk-pantau-persiapan-piala-dunia-u-17/pop-culture/\" rel=\"bookmark\">FIFA Bakal Berkantor di Jakarta Untuk Pantau Persiapan Piala Dunia U-17</a>, <a href=\"https://ussfeed.com/uji-emisi-jadi-syarat-perpanjang-stnk-jika-gagal-tidak-bisa-perpanjang-dan-kena-denda/pop-culture/\" rel=\"bookmark\">Uji Emisi Jadi Syarat Perpanjang STNK, Jika Gagal Tidak Bisa Perpanjang dan Kena Denda</a>, <a href=\"https://ussfeed.com/aksi-pencurian-aliran-listrik-untuk-tambang-kripto-berimbas-pada-listrik-warga-depok/pop-culture/\" rel=\"bookmark\">Aksi Pencurian Aliran Listrik untuk Tambang Kripto Berimbas pada Listrik Warga Depok</a>, <a href=\"https://ussfeed.com/olah-sampah-hewan-jadi-listrik-taman-margasatwa-ragunan-hasilkan-234kwh-dalam-sehari/pop-culture/\" rel=\"bookmark\">Olah Sampah Hewan Jadi Listrik, Taman Margasatwa Ragunan Hasilkan 234Kwh Dalam Sehari</a>, <a href=\"https://ussfeed.com/usai-kebakaran-museum-nasional-barang-yang-hangus-mulai-diidentifikasi-dan-periksa-21-saksi/pop-culture/\" rel=\"bookmark\">Usai Kebakaran Museum Nasional, Barang yang Hangus Mulai Diidentifikasi dan 21 Saksi Diperiksa</a>, <a href=\"https://ussfeed.com/virus-nipah-menyebar-di-india-tingkat-kematian-capai-75/editorial/\" rel=\"bookmark\">Virus Nipah Menyebar di India, Tingkat Kematian Capai 75%</a>, <a href=\"https://ussfeed.com/elon-musk-beri-ide-untuk-x-twitter-kenakan-biaya-tiap-kali-diakses-semua-pengguna/technology/\" rel=\"bookmark\">Elon Musk Beri Ide untuk X (Twitter) Kenakan Biaya Tiap Kali Diakses Semua Pengguna</a>, <a href=\"https://ussfeed.com/uji-coba-taksi-terbang-di-ikn-bakal-dilakukan-sebelum-hut-ri-ke-79/pop-culture/\" rel=\"bookmark\">Uji Coba Taksi Terbang di IKN Bakal Dilakukan Sebelum HUT RI Ke-79</a>, <a href=\"https://ussfeed.com/wisata-gunung-bromo-kembali-dibuka-mulai-19-september/pop-culture/\" rel=\"bookmark\">Wisata Gunung Bromo Kembali Dibuka Mulai 19 September</a>, <a href=\"https://ussfeed.com/pengantar-purifikasi-pikir-adalah-pengalaman-ekplorasi-musik-yang-digabung-dengan-lirik-yang-intim/music/\" rel=\"bookmark\">Album Baru Kunto Aji: Pengalaman Ekplorasi Musik yang Dipadukan Lirik yang Intim</a>, <a href=\"https://ussfeed.com/kate-spade-spring-2024-pesona-musim-semi-manhattan/pop-culture/\" rel=\"bookmark\">Kate Spade Spring 2024: Pesona Musim Semi Manhattan</a>, <a href=\"https://ussfeed.com/sandiaga-uno-sebut-muslimah-creative-day-2023-terwujudnya-indonesia-jadi-kiblat-fesyen-dunia/event/\" rel=\"bookmark\">Sandiaga Uno Sebut Muslimah Creative Day 2023, Wujud dari Indonesia Jadi Kiblat Fesyen Dunia</a>, <a href=\"https://ussfeed.com/staf-kantor-pusat-disney-diminta-wfh-usai-dapat-serangan-hama-tikus-dan-kutu/pop-culture/\" rel=\"bookmark\">Staf Kantor Pusat Disney Diminta WFH Usai Dapat Serangan Hama Tikus dan Kutu</a>, <a href=\"https://ussfeed.com/kemendikbud-tak-setuju-jika-sistem-zonasi-dianggap-akar-dari-permasalahan-di-ppdb/pop-culture/\" rel=\"bookmark\">Kemendikbud Tak Setuju Jika Sistem Zonasi Dianggap Akar dari Permasalahan di PPDB</a>, <a href=\"https://ussfeed.com/stanford-university-bakal-bangun-sekolah-di-ikn/pop-culture/\" rel=\"bookmark\">Stanford University Bakal Bangun Sekolah di IKN</a>, <a href=\"https://ussfeed.com/krisis-air-bersih-bekasi-warga-sulit-dapat-pasokan-akibat-tercemar-kalimalang-jadi-solusi/pop-culture/\" rel=\"bookmark\">Krisis Air Bersih Bekasi: Warga Sulit Dapat Pasokan Akibat Tercemar, Kalimalang Jadi Solusi?</a>, <a href=\"https://ussfeed.com/fifa-bakal-berkantor-di-jakarta-untuk-pantau-persiapan-piala-dunia-u-17/pop-culture/\" rel=\"bookmark\">FIFA Bakal Berkantor di Jakarta Untuk Pantau Persiapan Piala Dunia U-17</a>, <a href=\"https://ussfeed.com/uji-emisi-jadi-syarat-perpanjang-stnk-jika-gagal-tidak-bisa-perpanjang-dan-kena-denda/pop-culture/\" rel=\"bookmark\">Uji Emisi Jadi Syarat Perpanjang STNK, Jika Gagal Tidak Bisa Perpanjang dan Kena Denda</a>, <a href=\"https://ussfeed.com/aksi-pencurian-aliran-listrik-untuk-tambang-kripto-berimbas-pada-listrik-warga-depok/pop-culture/\" rel=\"bookmark\">Aksi Pencurian Aliran Listrik untuk Tambang Kripto Berimbas pada Listrik Warga Depok</a>, <a href=\"https://ussfeed.com/olah-sampah-hewan-jadi-listrik-taman-margasatwa-ragunan-hasilkan-234kwh-dalam-sehari/pop-culture/\" rel=\"bookmark\">Olah Sampah Hewan Jadi Listrik, Taman Margasatwa Ragunan Hasilkan 234Kwh Dalam Sehari</a>, <a href=\"https://ussfeed.com/usai-kebakaran-museum-nasional-barang-yang-hangus-mulai-diidentifikasi-dan-periksa-21-saksi/pop-culture/\" rel=\"bookmark\">Usai Kebakaran Museum Nasional, Barang yang Hangus Mulai Diidentifikasi dan 21 Saksi Diperiksa</a>, <a href=\"https://ussfeed.com/uji-coba-taksi-terbang-di-ikn-bakal-dilakukan-sebelum-hut-ri-ke-79/pop-culture/\" rel=\"bookmark\">Uji Coba Taksi Terbang di IKN Bakal Dilakukan Sebelum HUT RI Ke-79</a>, <a href=\"https://ussfeed.com/wisata-gunung-bromo-kembali-dibuka-mulai-19-september/pop-culture/\" rel=\"bookmark\">Wisata Gunung Bromo Kembali Dibuka Mulai 19 September</a>, <a href=\"https://ussfeed.com/kate-spade-spring-2024-pesona-musim-semi-manhattan/pop-culture/\" rel=\"bookmark\">Kate Spade Spring 2024: Pesona Musim Semi Manhattan</a>, <a href=\"https://ussfeed.com/staf-kantor-pusat-disney-diminta-wfh-usai-dapat-serangan-hama-tikus-dan-kutu/pop-culture/\" rel=\"bookmark\">Staf Kantor Pusat Disney Diminta WFH Usai Dapat Serangan Hama Tikus dan Kutu</a>, <a href=\"https://ussfeed.com/kominfo-berencana-tugaskan-ratusan-orang-yang-bakal-dibayar-rp75-juta-untuk-monitoring-hoaks/technology/\" rel=\"bookmark\">Kominfo Berencana Tugaskan Ratusan Orang yang Bakal Dibayar Rp7,5 Juta untuk Monitoring Hoaks</a>, <a href=\"https://ussfeed.com/elon-musk-beri-ide-untuk-x-twitter-kenakan-biaya-tiap-kali-diakses-semua-pengguna/technology/\" rel=\"bookmark\">Elon Musk Beri Ide untuk X (Twitter) Kenakan Biaya Tiap Kali Diakses Semua Pengguna</a>, <a href=\"https://ussfeed.com/pengantar-purifikasi-pikir-adalah-pengalaman-ekplorasi-musik-yang-digabung-dengan-lirik-yang-intim/music/\" rel=\"bookmark\">Album Baru Kunto Aji: Pengalaman Ekplorasi Musik yang Dipadukan Lirik yang Intim</a>, <a href=\"https://ussfeed.com/instagram-uji-coba-fitur-close-friend-pada-feed-kontrol-lebih-untuk-pengguna/technology/\" rel=\"bookmark\">Instagram Uji Coba Fitur ‘Close Friend’ pada Feed, Kontrol Lebih untuk Pengguna?</a>, <a href=\"https://ussfeed.com/penampilan-yang-bawakan-unsur-tradisional-blackpink-sukses-guncang-coachella-2023/music/\" rel=\"bookmark\">Penampilan yang Bawakan Unsur Tradisional, BLACKPINK Sukses Guncang Coachella 2023</a>, <a href=\"https://ussfeed.com/bettergoods-luncurkan-koleksi-spring-summer-2023-versatile-yang-bertajuk-in-a-moment/fashion/\" rel=\"bookmark\">Bettergoods Luncurkan Koleksi Spring/Summer 2023 Versatile yang Bertajuk ‘In a Moment’</a>, <a href=\"https://ussfeed.com/sambut-anniversary-ke-45-hai-berkolaborasi-dengan-w-essentiels-dan-luncurkan-koleksi-borderless-youth/fashion/\" rel=\"bookmark\">Sambut Anniversary ke-45, HAI Berkolaborasi dengan W.ESSENTIÈLS dan Luncurkan Koleksi ‘Borderless Youth’</a>, <a href=\"https://ussfeed.com/rilisan-eksklusif-sonderlab-dan-omo-yang-terinspirasi-dari-trompe-loeil/fashion/\" rel=\"bookmark\">Rilisan Eksklusif Sonderlab dan OMO yang Terinspirasi dari Trompe l’oeil</a>, <a href=\"https://ussfeed.com/gucci-dan-kering-group-jatuhkan-pilihan-pada-sabato-de-sarno-sebagai-creative-director-yang-baru/fashion/\" rel=\"bookmark\">Gucci dan Kering Group Jatuhkan Pilihan pada Sabato De Sarno sebagai Creative Director yang Baru</a>, <a href=\"https://ussfeed.com/curved-perkenalkan-diri-dengan-energi-y2k/fashion/\" rel=\"bookmark\">Curved Perkenalkan Diri dengan Energi Y2K</a>, <a href=\"https://ussfeed.com/store-terbaru-atmos-hadirkan-otaku-room-yang-jadi-satu-satunya-di-indonesia/pop-culture/\" rel=\"bookmark\">Store Terbaru atmos Hadirkan ‘Otaku Room’ yang Jadi Satu-satunya di Indonesia</a>]\n"
     ]
    }
   ],
   "source": [
    "text = soup.select('h5 a')\n",
    "print(text)"
   ]
  },
  {
   "cell_type": "code",
   "execution_count": 197,
   "metadata": {},
   "outputs": [
    {
     "name": "stdout",
     "output_type": "stream",
     "text": [
      "https://ussfeed.com/kemendikbud-tak-setuju-jika-sistem-zonasi-dianggap-akar-dari-permasalahan-di-ppdb/pop-culture/\n"
     ]
    }
   ],
   "source": [
    "links=[]\n",
    "for a in soup.select('h5 a'):\n",
    "  links.append(a.attrs.get('href'))\n",
    "\n",
    "print(links[0])"
   ]
  },
  {
   "cell_type": "code",
   "execution_count": 198,
   "metadata": {},
   "outputs": [
    {
     "name": "stdout",
     "output_type": "stream",
     "text": [
      "['Kemendikbud Tak Setuju Jika Sistem Zonasi Dianggap Akar dari Permasalahan di PPDB', 'Stanford University Bakal Bangun Sekolah di IKN', 'Krisis Air Bersih Bekasi: Warga Sulit Dapat Pasokan Akibat Tercemar, Kalimalang Jadi Solusi?', 'FIFA Bakal Berkantor di Jakarta Untuk Pantau Persiapan Piala Dunia U-17', 'Uji Emisi Jadi Syarat Perpanjang STNK, Jika Gagal Tidak Bisa Perpanjang dan Kena Denda', 'Aksi Pencurian Aliran Listrik untuk Tambang Kripto Berimbas pada Listrik Warga Depok', 'Olah Sampah Hewan Jadi Listrik, Taman Margasatwa Ragunan Hasilkan 234Kwh Dalam Sehari', 'Usai Kebakaran Museum Nasional, Barang yang Hangus Mulai Diidentifikasi dan 21 Saksi Diperiksa', 'Virus Nipah Menyebar di India, Tingkat Kematian Capai 75%', 'Elon Musk Beri Ide untuk X (Twitter) Kenakan Biaya Tiap Kali Diakses Semua Pengguna', 'Uji Coba Taksi Terbang di IKN Bakal Dilakukan Sebelum HUT RI Ke-79', 'Wisata Gunung Bromo Kembali Dibuka Mulai 19 September', 'Album Baru Kunto Aji: Pengalaman Ekplorasi Musik yang Dipadukan Lirik yang Intim', 'Kate Spade Spring 2024: Pesona Musim Semi Manhattan', 'Sandiaga Uno Sebut Muslimah Creative Day 2023, Wujud dari Indonesia Jadi Kiblat Fesyen Dunia', 'Staf Kantor Pusat Disney Diminta WFH Usai Dapat Serangan Hama Tikus dan Kutu', 'Kemendikbud Tak Setuju Jika Sistem Zonasi Dianggap Akar dari Permasalahan di PPDB', 'Stanford University Bakal Bangun Sekolah di IKN', 'Krisis Air Bersih Bekasi: Warga Sulit Dapat Pasokan Akibat Tercemar, Kalimalang Jadi Solusi?', 'FIFA Bakal Berkantor di Jakarta Untuk Pantau Persiapan Piala Dunia U-17', 'Uji Emisi Jadi Syarat Perpanjang STNK, Jika Gagal Tidak Bisa Perpanjang dan Kena Denda', 'Aksi Pencurian Aliran Listrik untuk Tambang Kripto Berimbas pada Listrik Warga Depok', 'Olah Sampah Hewan Jadi Listrik, Taman Margasatwa Ragunan Hasilkan 234Kwh Dalam Sehari', 'Usai Kebakaran Museum Nasional, Barang yang Hangus Mulai Diidentifikasi dan 21 Saksi Diperiksa', 'Uji Coba Taksi Terbang di IKN Bakal Dilakukan Sebelum HUT RI Ke-79', 'Wisata Gunung Bromo Kembali Dibuka Mulai 19 September', 'Kate Spade Spring 2024: Pesona Musim Semi Manhattan', 'Staf Kantor Pusat Disney Diminta WFH Usai Dapat Serangan Hama Tikus dan Kutu', 'Kominfo Berencana Tugaskan Ratusan Orang yang Bakal Dibayar Rp7,5 Juta untuk Monitoring Hoaks', 'Elon Musk Beri Ide untuk X (Twitter) Kenakan Biaya Tiap Kali Diakses Semua Pengguna', 'Album Baru Kunto Aji: Pengalaman Ekplorasi Musik yang Dipadukan Lirik yang Intim', 'Instagram Uji Coba Fitur ‘Close Friend’ pada Feed, Kontrol Lebih untuk Pengguna?', 'Penampilan yang Bawakan Unsur Tradisional, BLACKPINK Sukses Guncang Coachella 2023', 'Bettergoods Luncurkan Koleksi Spring/Summer 2023 Versatile yang Bertajuk ‘In a Moment’', 'Sambut Anniversary ke-45, HAI Berkolaborasi dengan W.ESSENTIÈLS dan Luncurkan Koleksi ‘Borderless Youth’', 'Rilisan Eksklusif Sonderlab dan OMO yang Terinspirasi dari Trompe l’oeil', 'Gucci dan Kering Group Jatuhkan Pilihan pada Sabato De Sarno sebagai Creative Director yang Baru', 'Curved Perkenalkan Diri dengan Energi Y2K', 'Store Terbaru atmos Hadirkan ‘Otaku Room’ yang Jadi Satu-satunya di Indonesia']\n",
      "['https://ussfeed.com/store-terbaru-atmos-hadirkan-otaku-room-yang-jadi-satu-satunya-di-indonesia/pop-culture/', 'https://ussfeed.com/store-terbaru-atmos-hadirkan-otaku-room-yang-jadi-satu-satunya-di-indonesia/pop-culture/', 'https://ussfeed.com/store-terbaru-atmos-hadirkan-otaku-room-yang-jadi-satu-satunya-di-indonesia/pop-culture/', 'https://ussfeed.com/store-terbaru-atmos-hadirkan-otaku-room-yang-jadi-satu-satunya-di-indonesia/pop-culture/', 'https://ussfeed.com/store-terbaru-atmos-hadirkan-otaku-room-yang-jadi-satu-satunya-di-indonesia/pop-culture/', 'https://ussfeed.com/store-terbaru-atmos-hadirkan-otaku-room-yang-jadi-satu-satunya-di-indonesia/pop-culture/', 'https://ussfeed.com/store-terbaru-atmos-hadirkan-otaku-room-yang-jadi-satu-satunya-di-indonesia/pop-culture/', 'https://ussfeed.com/store-terbaru-atmos-hadirkan-otaku-room-yang-jadi-satu-satunya-di-indonesia/pop-culture/', 'https://ussfeed.com/store-terbaru-atmos-hadirkan-otaku-room-yang-jadi-satu-satunya-di-indonesia/pop-culture/', 'https://ussfeed.com/store-terbaru-atmos-hadirkan-otaku-room-yang-jadi-satu-satunya-di-indonesia/pop-culture/', 'https://ussfeed.com/store-terbaru-atmos-hadirkan-otaku-room-yang-jadi-satu-satunya-di-indonesia/pop-culture/', 'https://ussfeed.com/store-terbaru-atmos-hadirkan-otaku-room-yang-jadi-satu-satunya-di-indonesia/pop-culture/', 'https://ussfeed.com/store-terbaru-atmos-hadirkan-otaku-room-yang-jadi-satu-satunya-di-indonesia/pop-culture/', 'https://ussfeed.com/store-terbaru-atmos-hadirkan-otaku-room-yang-jadi-satu-satunya-di-indonesia/pop-culture/', 'https://ussfeed.com/store-terbaru-atmos-hadirkan-otaku-room-yang-jadi-satu-satunya-di-indonesia/pop-culture/', 'https://ussfeed.com/store-terbaru-atmos-hadirkan-otaku-room-yang-jadi-satu-satunya-di-indonesia/pop-culture/', 'https://ussfeed.com/store-terbaru-atmos-hadirkan-otaku-room-yang-jadi-satu-satunya-di-indonesia/pop-culture/', 'https://ussfeed.com/store-terbaru-atmos-hadirkan-otaku-room-yang-jadi-satu-satunya-di-indonesia/pop-culture/', 'https://ussfeed.com/store-terbaru-atmos-hadirkan-otaku-room-yang-jadi-satu-satunya-di-indonesia/pop-culture/', 'https://ussfeed.com/store-terbaru-atmos-hadirkan-otaku-room-yang-jadi-satu-satunya-di-indonesia/pop-culture/', 'https://ussfeed.com/store-terbaru-atmos-hadirkan-otaku-room-yang-jadi-satu-satunya-di-indonesia/pop-culture/', 'https://ussfeed.com/store-terbaru-atmos-hadirkan-otaku-room-yang-jadi-satu-satunya-di-indonesia/pop-culture/', 'https://ussfeed.com/store-terbaru-atmos-hadirkan-otaku-room-yang-jadi-satu-satunya-di-indonesia/pop-culture/', 'https://ussfeed.com/store-terbaru-atmos-hadirkan-otaku-room-yang-jadi-satu-satunya-di-indonesia/pop-culture/', 'https://ussfeed.com/store-terbaru-atmos-hadirkan-otaku-room-yang-jadi-satu-satunya-di-indonesia/pop-culture/', 'https://ussfeed.com/store-terbaru-atmos-hadirkan-otaku-room-yang-jadi-satu-satunya-di-indonesia/pop-culture/', 'https://ussfeed.com/store-terbaru-atmos-hadirkan-otaku-room-yang-jadi-satu-satunya-di-indonesia/pop-culture/', 'https://ussfeed.com/store-terbaru-atmos-hadirkan-otaku-room-yang-jadi-satu-satunya-di-indonesia/pop-culture/', 'https://ussfeed.com/store-terbaru-atmos-hadirkan-otaku-room-yang-jadi-satu-satunya-di-indonesia/pop-culture/', 'https://ussfeed.com/store-terbaru-atmos-hadirkan-otaku-room-yang-jadi-satu-satunya-di-indonesia/pop-culture/', 'https://ussfeed.com/store-terbaru-atmos-hadirkan-otaku-room-yang-jadi-satu-satunya-di-indonesia/pop-culture/', 'https://ussfeed.com/store-terbaru-atmos-hadirkan-otaku-room-yang-jadi-satu-satunya-di-indonesia/pop-culture/', 'https://ussfeed.com/store-terbaru-atmos-hadirkan-otaku-room-yang-jadi-satu-satunya-di-indonesia/pop-culture/', 'https://ussfeed.com/store-terbaru-atmos-hadirkan-otaku-room-yang-jadi-satu-satunya-di-indonesia/pop-culture/', 'https://ussfeed.com/store-terbaru-atmos-hadirkan-otaku-room-yang-jadi-satu-satunya-di-indonesia/pop-culture/', 'https://ussfeed.com/store-terbaru-atmos-hadirkan-otaku-room-yang-jadi-satu-satunya-di-indonesia/pop-culture/', 'https://ussfeed.com/store-terbaru-atmos-hadirkan-otaku-room-yang-jadi-satu-satunya-di-indonesia/pop-culture/', 'https://ussfeed.com/store-terbaru-atmos-hadirkan-otaku-room-yang-jadi-satu-satunya-di-indonesia/pop-culture/', 'https://ussfeed.com/store-terbaru-atmos-hadirkan-otaku-room-yang-jadi-satu-satunya-di-indonesia/pop-culture/']\n"
     ]
    }
   ],
   "source": [
    "article_title=[]\n",
    "links=[]\n",
    "\n",
    "for t in soup.select('h5.sc_blogger_item_title.entry-title'):\n",
    "  article_title.append(t.get_text())\n",
    "  links.append(a.attrs.get('href'))\n",
    "\n",
    "print(article_title)\n",
    "print(links)"
   ]
  },
  {
   "cell_type": "code",
   "execution_count": 199,
   "metadata": {},
   "outputs": [
    {
     "name": "stdout",
     "output_type": "stream",
     "text": [
      "Wiena Vedasari\n"
     ]
    }
   ],
   "source": [
    "authorname = []\n",
    "for a in soup.select('span.post_author_name'):\n",
    "    authorname.append(a.get_text())\n",
    "\n",
    "print(authorname[0])"
   ]
  },
  {
   "cell_type": "code",
   "execution_count": 200,
   "metadata": {},
   "outputs": [
    {
     "name": "stdout",
     "output_type": "stream",
     "text": [
      "                                       article title  \\\n",
      "0  Kemendikbud Tak Setuju Jika Sistem Zonasi Dian...   \n",
      "1    Stanford University Bakal Bangun Sekolah di IKN   \n",
      "2  Krisis Air Bersih Bekasi: Warga Sulit Dapat Pa...   \n",
      "3  FIFA Bakal Berkantor di Jakarta Untuk Pantau P...   \n",
      "4  Uji Emisi Jadi Syarat Perpanjang STNK, Jika Ga...   \n",
      "\n",
      "                                                link  \n",
      "0  https://ussfeed.com/store-terbaru-atmos-hadirk...  \n",
      "1  https://ussfeed.com/store-terbaru-atmos-hadirk...  \n",
      "2  https://ussfeed.com/store-terbaru-atmos-hadirk...  \n",
      "3  https://ussfeed.com/store-terbaru-atmos-hadirk...  \n",
      "4  https://ussfeed.com/store-terbaru-atmos-hadirk...  \n"
     ]
    }
   ],
   "source": [
    "df = pd.DataFrame(\n",
    "    {'article title': article_title,\n",
    "     'link': links}\n",
    "    )\n",
    "\n",
    "print (df.head())\n",
    "\n",
    "df.to_csv('ussfeed.csv', index=False)"
   ]
  }
 ],
 "metadata": {
  "kernelspec": {
   "display_name": "Python 3",
   "language": "python",
   "name": "python3"
  },
  "language_info": {
   "codemirror_mode": {
    "name": "ipython",
    "version": 3
   },
   "file_extension": ".py",
   "mimetype": "text/x-python",
   "name": "python",
   "nbconvert_exporter": "python",
   "pygments_lexer": "ipython3",
   "version": "3.10.7"
  },
  "orig_nbformat": 4
 },
 "nbformat": 4,
 "nbformat_minor": 2
}
