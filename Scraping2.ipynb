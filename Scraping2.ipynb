{
 "cells": [
  {
   "cell_type": "code",
   "execution_count": 89,
   "metadata": {},
   "outputs": [],
   "source": [
    "from bs4 import BeautifulSoup\n",
    "import requests\n",
    "import re\n",
    "import pandas as pd"
   ]
  },
  {
   "cell_type": "code",
   "execution_count": 90,
   "metadata": {},
   "outputs": [],
   "source": [
    "headers = {'Accept-Language': 'en-US,en;q=0.8'}\n",
    "url = 'https://www.rottentomatoes.com/'\n",
    "response = requests.get(url,headers=headers)\n",
    "soup = BeautifulSoup(response.text, \"html.parser\")"
   ]
  },
  {
   "cell_type": "code",
   "execution_count": 91,
   "metadata": {},
   "outputs": [
    {
     "name": "stdout",
     "output_type": "stream",
     "text": [
      "<h3 class=\"p\">Availability may vary, check your <a href=\"https://www.fandango.com/movies-in-theaters\">local showtimes</a> for details.</h3>\n"
     ]
    }
   ],
   "source": [
    "newstitle = soup.select('h3.p')\n",
    "print(newstitle[0])"
   ]
  },
  {
   "cell_type": "code",
   "execution_count": 92,
   "metadata": {},
   "outputs": [
    {
     "name": "stdout",
     "output_type": "stream",
     "text": [
      "[<a href=\"https://www.fandango.com/movies-in-theaters\">local showtimes</a>]\n"
     ]
    }
   ],
   "source": [
    "text = soup.select('h3 a')\n",
    "print(text)"
   ]
  },
  {
   "cell_type": "code",
   "execution_count": 93,
   "metadata": {},
   "outputs": [
    {
     "name": "stdout",
     "output_type": "stream",
     "text": [
      "https://www.fandango.com/movies-in-theaters\n"
     ]
    }
   ],
   "source": [
    "links=[]\n",
    "for a in soup.select('h3 a'):\n",
    "  links.append(a.attrs.get('href'))\n",
    "\n",
    "print(links[0])"
   ]
  },
  {
   "cell_type": "code",
   "execution_count": 94,
   "metadata": {},
   "outputs": [
    {
     "name": "stdout",
     "output_type": "stream",
     "text": [
      "['local showtimes']\n",
      "['https://www.fandango.com/movies-in-theaters']\n"
     ]
    }
   ],
   "source": [
    "article_title=[]\n",
    "links=[]\n",
    "\n",
    "for t in soup.select('h3 a'):\n",
    "  article_title.append(t.get_text())\n",
    "  links.append(a.attrs.get('href'))\n",
    "\n",
    "print(article_title)\n",
    "print(links)"
   ]
  },
  {
   "cell_type": "code",
   "execution_count": 95,
   "metadata": {},
   "outputs": [
    {
     "name": "stdout",
     "output_type": "stream",
     "text": [
      "   local showtimes                                         link\n",
      "0  local showtimes  https://www.fandango.com/movies-in-theaters\n"
     ]
    }
   ],
   "source": [
    "df = pd.DataFrame(\n",
    "    {'local showtimes': article_title,\n",
    "     'link': links}\n",
    "    )\n",
    "\n",
    "print (df.head())\n",
    "\n",
    "df.to_csv('rottentomatoes.csv', index=False)"
   ]
  }
 ],
 "metadata": {
  "kernelspec": {
   "display_name": "Python 3",
   "language": "python",
   "name": "python3"
  },
  "language_info": {
   "codemirror_mode": {
    "name": "ipython",
    "version": 3
   },
   "file_extension": ".py",
   "mimetype": "text/x-python",
   "name": "python",
   "nbconvert_exporter": "python",
   "pygments_lexer": "ipython3",
   "version": "3.10.7"
  },
  "orig_nbformat": 4
 },
 "nbformat": 4,
 "nbformat_minor": 2
}
